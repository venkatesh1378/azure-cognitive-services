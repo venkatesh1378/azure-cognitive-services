{
 "cells": [
  {
   "cell_type": "markdown",
   "id": "9e9ee812",
   "metadata": {},
   "source": [
    "supported languages\n",
    "\n",
    "https://learn.microsoft.com/en-us/azure/ai-services/speech-service/language-support?tabs=speech-translation#supported-languages"
   ]
  },
  {
   "cell_type": "code",
   "execution_count": 7,
   "id": "6e47839c",
   "metadata": {},
   "outputs": [
    {
     "name": "stdout",
     "output_type": "stream",
     "text": [
      "Speak into your microphone.\n",
      "Recognized: రేఖా సోదరుడు శంకర్ భానుగుడి కాకినాడ 1002 లో శోధించండి.\n",
      "Translated into 'en': Search for Rekha's brother Shankar Bhanugudi in Kakinada 1002.\n"
     ]
    }
   ],
   "source": [
    "import os\n",
    "import azure.cognitiveservices.speech as speechsdk\n",
    "\n",
    "def recognize_from_microphone():\n",
    "    # This example requires environment variables named \"SPEECH_KEY\" and \"SPEECH_REGION\"\n",
    "    speech_translation_config = speechsdk.translation.SpeechTranslationConfig(subscription='4187d363413b48349e5ec6bc1e07f8b9', \n",
    "                                                                              region='eastus')\n",
    "    speech_translation_config.speech_recognition_language=\"te-IN\"\n",
    "\n",
    "    target_language=\"en\"\n",
    "    speech_translation_config.add_target_language(target_language)\n",
    "\n",
    "    audio_config = speechsdk.audio.AudioConfig(use_default_microphone=True)\n",
    "    translation_recognizer = speechsdk.translation.TranslationRecognizer(translation_config=speech_translation_config, audio_config=audio_config)\n",
    "\n",
    "    print(\"Speak into your microphone.\")\n",
    "    translation_recognition_result = translation_recognizer.recognize_once_async().get()\n",
    "\n",
    "    if translation_recognition_result.reason == speechsdk.ResultReason.TranslatedSpeech:\n",
    "        print(\"Recognized: {}\".format(translation_recognition_result.text))\n",
    "        print(\"\"\"Translated into '{}': {}\"\"\".format(\n",
    "            target_language, \n",
    "            translation_recognition_result.translations[target_language]))\n",
    "    elif translation_recognition_result.reason == speechsdk.ResultReason.NoMatch:\n",
    "        print(\"No speech could be recognized: {}\".format(translation_recognition_result.no_match_details))\n",
    "    elif translation_recognition_result.reason == speechsdk.ResultReason.Canceled:\n",
    "        cancellation_details = translation_recognition_result.cancellation_details\n",
    "        print(\"Speech Recognition canceled: {}\".format(cancellation_details.reason))\n",
    "        if cancellation_details.reason == speechsdk.CancellationReason.Error:\n",
    "            print(\"Error details: {}\".format(cancellation_details.error_details))\n",
    "            print(\"Did you set the speech resource key and region values?\")\n",
    "\n",
    "recognize_from_microphone()"
   ]
  },
  {
   "cell_type": "code",
   "execution_count": null,
   "id": "848da7f5",
   "metadata": {},
   "outputs": [],
   "source": []
  }
 ],
 "metadata": {
  "kernelspec": {
   "display_name": "Python 3 (ipykernel)",
   "language": "python",
   "name": "python3"
  },
  "language_info": {
   "codemirror_mode": {
    "name": "ipython",
    "version": 3
   },
   "file_extension": ".py",
   "mimetype": "text/x-python",
   "name": "python",
   "nbconvert_exporter": "python",
   "pygments_lexer": "ipython3",
   "version": "3.11.5"
  }
 },
 "nbformat": 4,
 "nbformat_minor": 5
}
