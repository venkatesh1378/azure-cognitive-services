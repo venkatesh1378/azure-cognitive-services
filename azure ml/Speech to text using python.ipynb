{
 "cells": [
  {
   "cell_type": "code",
   "execution_count": null,
   "id": "b2ab8069",
   "metadata": {},
   "outputs": [],
   "source": [
    "# !pip install speechrecognition\n",
    "# !pip install pyaudio\n",
    "# !pip install pyttsx3"
   ]
  },
  {
   "cell_type": "markdown",
   "id": "037f0096",
   "metadata": {},
   "source": [
    "**Speech to text**"
   ]
  },
  {
   "cell_type": "code",
   "execution_count": 1,
   "id": "7535d833",
   "metadata": {},
   "outputs": [],
   "source": [
    "import speech_recognition as sr\n",
    "import pyttsx3"
   ]
  },
  {
   "cell_type": "code",
   "execution_count": 2,
   "id": "769ba941",
   "metadata": {},
   "outputs": [
    {
     "data": {
      "text/plain": [
       "<speech_recognition.Recognizer at 0x1476f1ddcd0>"
      ]
     },
     "execution_count": 2,
     "metadata": {},
     "output_type": "execute_result"
    }
   ],
   "source": [
    "r = sr.Recognizer() \n",
    "r"
   ]
  },
  {
   "cell_type": "code",
   "execution_count": 4,
   "id": "ee7fe2a4",
   "metadata": {},
   "outputs": [
    {
     "name": "stdout",
     "output_type": "stream",
     "text": [
      "Did you say  hey my name is omkar i am teaching speech to text\n"
     ]
    }
   ],
   "source": [
    "engine = pyttsx3.init()\n",
    "#engine.say(command) \n",
    "engine.runAndWait()\n",
    "\n",
    "# use the microphone as source for input.\n",
    "with sr.Microphone() as source2:\n",
    "    r.adjust_for_ambient_noise(source2, duration=0.2)\n",
    "    audio2 = r.listen(source2)\n",
    "    MyText = r.recognize_google(audio2)\n",
    "    MyText = MyText.lower()\n",
    " \n",
    "    print(\"Did you say \",MyText)\n",
    "            "
   ]
  },
  {
   "cell_type": "markdown",
   "id": "fe88ceae",
   "metadata": {},
   "source": [
    "**Text to speech**"
   ]
  },
  {
   "cell_type": "code",
   "execution_count": 5,
   "id": "2e270ee3",
   "metadata": {},
   "outputs": [],
   "source": [
    "# importing the pyttsx library \n",
    "import pyttsx3 \n",
    "\n",
    "# initialisation \n",
    "engine = pyttsx3.init() \n",
    "\n",
    "# testing \n",
    "engine.say(\"My first code on text-to-speech\") \n",
    "engine.say(\"Thank you, Omkar\") \n",
    "engine.runAndWait() \n"
   ]
  },
  {
   "cell_type": "code",
   "execution_count": 7,
   "id": "863c43ac",
   "metadata": {},
   "outputs": [
    {
     "data": {
      "text/plain": [
       "'C:\\\\Users\\\\omkar\\\\OneDrive\\\\Documents\\\\Data science\\\\Naresh IT\\\\Data science\\\\Batch-2_July3\\\\NLP'"
      ]
     },
     "execution_count": 7,
     "metadata": {},
     "output_type": "execute_result"
    }
   ],
   "source": [
    "import os\n",
    "os.getcwd()"
   ]
  },
  {
   "cell_type": "code",
   "execution_count": null,
   "id": "f6f15b9a",
   "metadata": {},
   "outputs": [],
   "source": []
  }
 ],
 "metadata": {
  "kernelspec": {
   "display_name": "Python 3 (ipykernel)",
   "language": "python",
   "name": "python3"
  },
  "language_info": {
   "codemirror_mode": {
    "name": "ipython",
    "version": 3
   },
   "file_extension": ".py",
   "mimetype": "text/x-python",
   "name": "python",
   "nbconvert_exporter": "python",
   "pygments_lexer": "ipython3",
   "version": "3.11.5"
  }
 },
 "nbformat": 4,
 "nbformat_minor": 5
}
